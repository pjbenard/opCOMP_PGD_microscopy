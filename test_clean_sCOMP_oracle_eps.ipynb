{
 "cells": [
  {
   "cell_type": "markdown",
   "id": "fee71cac-1601-42d1-bb6e-cc70b2b63a06",
   "metadata": {},
   "source": [
    "### Import librairies"
   ]
  },
  {
   "cell_type": "code",
   "execution_count": null,
   "id": "44bdc68b-7d12-4ed0-9946-66d149be2f3e",
   "metadata": {},
   "outputs": [],
   "source": [
    "import numpy as np\n",
    "from tqdm import tqdm\n",
    "\n",
    "from functools import partial\n",
    "from scipy.spatial import distance_matrix\n",
    "\n",
    "import holoviews as hv\n",
    "hv.extension('matplotlib')"
   ]
  },
  {
   "cell_type": "code",
   "execution_count": null,
   "id": "889099bf-d77f-4897-933d-4711b7ed247a",
   "metadata": {},
   "outputs": [],
   "source": [
    "from linop_MA_TIRF import MA_TIRF\n",
    "\n",
    "from g_utils import gradient_g, g\n",
    "\n",
    "from opCOMP_init import opCOMP\n",
    "from sCOMP_init import sCOMP\n",
    "from descent_utilities import clip_domain, project_theta_eps\n",
    "\n",
    "from FISTA_restart_descent import FISTA_restart\n",
    "from init_utils import FISTA_restart_single_spike, init_position_max_val\n",
    "from data_utils import create_batches\n",
    "\n",
    "from analyse_utils import pair_GT_estimation, compute_metrics, RMSE"
   ]
  },
  {
   "cell_type": "code",
   "execution_count": null,
   "id": "8ce664c5-26fb-4c14-880a-4fd992f4b72b",
   "metadata": {},
   "outputs": [],
   "source": [
    "def projection(X, eps_proj, cut_off=1e-2):\n",
    "    a, t = X[:, -1], X[:, :-1]\n",
    "    a, t = project_theta_eps(a, t, eps_proj, cut_off)\n",
    "    return np.concatenate((t, a[:, None]), axis=-1)"
   ]
  },
  {
   "cell_type": "markdown",
   "id": "9f256ff4-c2c6-47e2-8417-425bf03dea87",
   "metadata": {},
   "source": [
    "### Settings variables"
   ]
  },
  {
   "cell_type": "code",
   "execution_count": null,
   "id": "755ac946-aa7d-4ed6-879d-fe343e576d42",
   "metadata": {},
   "outputs": [],
   "source": [
    "seed = 10\n",
    "np.random.seed(seed)\n",
    "\n",
    "N = 10\n",
    "k_min = N\n",
    "k_max = 3 * N\n",
    "nb_batch = 1\n",
    "\n",
    "single_batch = nb_batch == 1\n",
    "\n",
    "lambda_l = 0.66\n",
    "N1, N2 = 64, 64\n",
    "K_angles = 4"
   ]
  },
  {
   "cell_type": "code",
   "execution_count": null,
   "id": "16d489ac-28ce-4cd3-a752-404bd47494a1",
   "metadata": {},
   "outputs": [],
   "source": [
    "linop = MA_TIRF(lambda_l=lambda_l, N1=N1, N2=N2, K=K_angles)\n",
    "batches = create_batches(nbatch=N, plafrim_path=False)\n",
    "\n",
    "T0 = np.zeros([0, 3])\n",
    "A0 = np.zeros([0])\n",
    "\n",
    "T_INIT = np.zeros([0, 3])\n",
    "A_INIT = np.zeros([0])\n",
    "\n",
    "T_ESTI = np.zeros([0, 3])\n",
    "A_ESTI = np.zeros([0])"
   ]
  },
  {
   "cell_type": "code",
   "execution_count": null,
   "id": "1c553681-82bc-42d3-90e9-9fdc58fef361",
   "metadata": {},
   "outputs": [],
   "source": [
    "t0 = batches[0]"
   ]
  },
  {
   "cell_type": "code",
   "execution_count": null,
   "id": "26bb7555-1dd1-43cf-8e03-d8d0266bcad3",
   "metadata": {},
   "outputs": [],
   "source": [
    "T0 = np.concatenate((T0, t0), axis=0)\n",
    "a0 = np.random.uniform(1, 1.5, N)\n",
    "A0 = np.concatenate((A0, a0))\n",
    "\n",
    "min_dist = np.min(distance_matrix(t0, t0) + np.eye(N))\n",
    "eps_proj = min_dist * 0.75\n",
    "\n",
    "y = linop.Ax(a0, t0)"
   ]
  },
  {
   "cell_type": "markdown",
   "id": "be148eda-5484-4678-a6a6-121962d1536a",
   "metadata": {},
   "source": [
    "### Initialization and estimation : Sliding COMP"
   ]
  },
  {
   "cell_type": "code",
   "execution_count": null,
   "id": "9546d311-d08f-4779-a111-c7ca0cbf5d79",
   "metadata": {},
   "outputs": [],
   "source": [
    "clip = partial(\n",
    "    clip_domain,\n",
    "    linop=linop\n",
    ")\n",
    "\n",
    "a_init, t_init, errors, r = sCOMP(\n",
    "    y, linop=linop,\n",
    "    step=.2, nb_tests=1,\n",
    "    max_iter=k_min,\n",
    "    min_iter=k_min + 1,\n",
    "    clip=clip,\n",
    "    disable_tqdm_init=not single_batch\n",
    ")"
   ]
  },
  {
   "cell_type": "code",
   "execution_count": null,
   "id": "758538f5-c335-4ea5-9964-d549d9e89f79",
   "metadata": {},
   "outputs": [],
   "source": [
    "T_INIT = np.concatenate((T_INIT, t_init), axis=0)\n",
    "A_INIT = np.concatenate((A_INIT, a_init))\n",
    "\n",
    "X_init = np.concatenate((t_init, a_init[:, None]), axis=-1)"
   ]
  },
  {
   "cell_type": "markdown",
   "id": "276ab169-4b69-4838-ab4d-660be90f7460",
   "metadata": {},
   "source": [
    "### Visualization"
   ]
  },
  {
   "cell_type": "code",
   "execution_count": null,
   "id": "d67979d6-7a0b-4234-8c3b-b4d466b111bc",
   "metadata": {},
   "outputs": [],
   "source": [
    "X_true = np.concatenate((t0, a0[:, None]), axis=-1)\n",
    "plot_true = hv.Scatter3D(X_true, label='GT').opts(marker='+', s=100)\n",
    "plot_init = hv.Scatter3D(X_init, label='Esti Sliding COMP').opts(marker='1', s=100)"
   ]
  },
  {
   "cell_type": "code",
   "execution_count": null,
   "id": "15ed9d2a-3179-487f-91d9-f469cb83166e",
   "metadata": {},
   "outputs": [],
   "source": [
    "(plot_true * plot_init).opts(fig_size=300)"
   ]
  },
  {
   "cell_type": "code",
   "execution_count": null,
   "id": "e626f242-dbb0-4097-924f-97a85199b5b9",
   "metadata": {},
   "outputs": [],
   "source": [
    "plot_error_init = hv.Curve(errors, label='Error Sliding COMP').opts(logy=True)\n",
    "plot_error_init"
   ]
  },
  {
   "cell_type": "code",
   "execution_count": null,
   "id": "7fc02fd5-628e-4377-aef5-bb592655c175",
   "metadata": {},
   "outputs": [],
   "source": []
  }
 ],
 "metadata": {
  "kernelspec": {
   "display_name": "Python 3 (ipykernel)",
   "language": "python",
   "name": "python3"
  },
  "language_info": {
   "codemirror_mode": {
    "name": "ipython",
    "version": 3
   },
   "file_extension": ".py",
   "mimetype": "text/x-python",
   "name": "python",
   "nbconvert_exporter": "python",
   "pygments_lexer": "ipython3",
   "version": "3.10.12"
  }
 },
 "nbformat": 4,
 "nbformat_minor": 5
}
