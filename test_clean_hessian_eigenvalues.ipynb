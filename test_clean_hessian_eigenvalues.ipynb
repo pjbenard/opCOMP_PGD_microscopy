{
 "cells": [
  {
   "cell_type": "code",
   "execution_count": null,
   "id": "92214e06-db92-4cbc-9de3-31263b8586b8",
   "metadata": {},
   "outputs": [],
   "source": [
    "import numpy as np\n",
    "import numpy.linalg as npl\n",
    "\n",
    "import holoviews as hv\n",
    "hv.extension('matplotlib')"
   ]
  },
  {
   "cell_type": "code",
   "execution_count": null,
   "id": "fac01f03-bc07-49e3-8846-77ce4ccdca28",
   "metadata": {},
   "outputs": [],
   "source": [
    "np.random.seed(0)"
   ]
  },
  {
   "cell_type": "code",
   "execution_count": null,
   "id": "0f210a68-572e-4c21-9483-59a9f7bc7041",
   "metadata": {},
   "outputs": [],
   "source": [
    "from linop_FourierTransform import FourierTransform\n",
    "from gradient_descent import gradient_descent"
   ]
  },
  {
   "cell_type": "code",
   "execution_count": null,
   "id": "953e34c9-fd24-4db3-91db-5548dab95134",
   "metadata": {},
   "outputs": [],
   "source": [
    "def unit_circle_points(N, dist=1):\n",
    "    roots = np.exp(1j * np.linspace(0, 2 * np.pi, num=N, endpoint=False))\n",
    "    X = np.empty((N, 2))\n",
    "    X[:, 0] = np.real(roots)\n",
    "    X[:, 1] = np.imag(roots)\n",
    "    return X * dist"
   ]
  },
  {
   "cell_type": "code",
   "execution_count": null,
   "id": "1e98e86e-f9b6-4f7c-b981-62d26358b8ec",
   "metadata": {},
   "outputs": [],
   "source": [
    "d = 2\n",
    "a0 = np.array([1])\n",
    "t0 = np.array([[0] * d])"
   ]
  },
  {
   "cell_type": "code",
   "execution_count": null,
   "id": "4ae7b924-c79b-40df-a0aa-1fe831cb9158",
   "metadata": {},
   "outputs": [],
   "source": [
    "def plot_traj(t0, t_init, traj_t, lim=None, opts_spe={}):\n",
    "    size = 300\n",
    "\n",
    "    for idx in range(traj_t.shape[1]):\n",
    "        curve_traj = hv.Curve(traj_t[:, idx, :], label='Trajectory').opts(linestyle='-', marker='o', alpha=.3, ms=size // 25)\n",
    "        point_init = hv.Points(t_init, label='Initialization').opts(color='r', marker='P', s=size)\n",
    "        if idx == 0:\n",
    "            layout = (curve_traj * point_init)\n",
    "        else:\n",
    "            layout = layout * (curve_traj * point_init)\n",
    "\n",
    "    layout = layout * hv.Points(t0, label='Ground truth').opts(color='g', marker='X', s=size)\n",
    "\n",
    "    opts = {'show_legend': True, 'fig_size': 200, 'fontscale': 2}\n",
    "    for k, v in opts_spe.items():\n",
    "        opts[k] = v\n",
    "    \n",
    "\n",
    "    if lim is None:\n",
    "        opts['padding'] = 0.1\n",
    "    else:\n",
    "        opts['xlim'] = (-0.25, 0.25)\n",
    "        opts['ylim'] = (-0.25, 0.25)\n",
    "\n",
    "    output = layout.opts(**opts)\n",
    "\n",
    "    hv.output(output)"
   ]
  },
  {
   "cell_type": "code",
   "execution_count": null,
   "id": "ced34d6c-2218-4240-9f8a-f32f2819b895",
   "metadata": {},
   "outputs": [],
   "source": [
    "def plot_error(errors, opts_spe={}):\n",
    "    opts = {'xlabel': r'Gradient Descent iterations', \n",
    "            'ylabel': r'Norm of residue $ \\| y - Ax \\|_{2}$', \n",
    "            'logy': True, 'fig_size': 500,\n",
    "            'fontscale': 2, 'xlim': (0, len(errors))}\n",
    "    \n",
    "    for k, v in opts_spe.items():\n",
    "        opts[k] = v\n",
    "    \n",
    "    output = hv.Curve(errors).opts(**opts)\n",
    "        \n",
    "    hv.output(output)"
   ]
  },
  {
   "cell_type": "code",
   "execution_count": null,
   "id": "946f5fac-f81d-4ec3-9141-99d39e953e5a",
   "metadata": {},
   "outputs": [],
   "source": [
    "def plot_eigenvalue(eigen_min, condition, opts_spe={}):\n",
    "    curve_eigen_min = hv.Curve(eigen_min).opts(xlabel='Gradient Descent iterations', ylabel='Smallest eigenvalue', \n",
    "                                               fontscale=2)\n",
    "    curve_condition = hv.Curve(condition).opts(xlabel='Gradient Descent iterations', ylabel='Condition number', \n",
    "                                               fontscale=2)\n",
    "\n",
    "    opts = {'shared_axes': False, 'fig_size': 200,}\n",
    "    for k, v in opts_spe.items():\n",
    "        opts[k] = v\n",
    "        \n",
    "    output = (curve_eigen_min + curve_condition).opts(**opts)\n",
    "    \n",
    "    hv.output(output)"
   ]
  },
  {
   "cell_type": "code",
   "execution_count": null,
   "id": "d32f59f4-a114-4113-a673-97c118b02868",
   "metadata": {},
   "outputs": [],
   "source": [
    "def formatter_eig(value):\n",
    "    return f\"{-value:#.0e}\"\n",
    "\n",
    "def formatter_cond(value):\n",
    "    return f\"{value:#.0e}\"\n",
    "    \n",
    "def plot_eigenvalue_log(eigen_min, condition, opts_spe={}):\n",
    "    fontscale=1.5\n",
    "    curve_eigen_min = hv.Curve(eigen_min).opts(xlabel='Gradient Descent iterations', ylabel='Smallest eigenvalue', \n",
    "                                               fontscale=fontscale, logy=True, invert_yaxis=True,\n",
    "                                               yformatter=formatter_eig, show_title=False)\n",
    "    curve_condition = hv.Curve(condition).opts(xlabel='Gradient Descent iterations', ylabel='Condition number', \n",
    "                                               fontscale=fontscale, logy=True, \n",
    "                                               yformatter=formatter_cond, show_title=False)\n",
    "\n",
    "    opts = {'shared_axes': False, 'fig_size': 200,}\n",
    "    for k, v in opts_spe.items():\n",
    "        opts[k] = v\n",
    "    output = (curve_eigen_min + curve_condition).opts(**opts)\n",
    "\n",
    "    hv.output(output)"
   ]
  },
  {
   "cell_type": "markdown",
   "id": "64361fd4-abbe-4d6f-a091-71adef6bc53e",
   "metadata": {
    "tags": []
   },
   "source": [
    "# Eigen values with $ x = a \\delta_{t} $"
   ]
  },
  {
   "cell_type": "code",
   "execution_count": null,
   "id": "b7d05ce0-94e4-49eb-9d60-b3ac82a4c365",
   "metadata": {},
   "outputs": [],
   "source": [
    "k = 1\n",
    "m = k * 1000\n",
    "\n",
    "a = np.ones(k) / k\n",
    "t = unit_circle_points(k, dist=.2)\n",
    "\n",
    "linop = FourierTransform(m=m, d=d, lamb=.2)\n",
    "y = linop.Ax(a0, t0)"
   ]
  },
  {
   "cell_type": "code",
   "execution_count": null,
   "id": "08d1ba41-0339-4c34-8764-9de60838c0e5",
   "metadata": {},
   "outputs": [],
   "source": [
    "a_est, t_est, traj_a, traj_t, errors = gradient_descent(y, linop, a, t, project=False, nit=500, tau={'min': -10, 'max': 10}, clip=False)"
   ]
  },
  {
   "cell_type": "code",
   "execution_count": null,
   "id": "25b0dc88-ba24-416e-a563-36401533854d",
   "metadata": {},
   "outputs": [],
   "source": [
    "plot_traj(t0, t, traj_t[:50], lim=True) "
   ]
  },
  {
   "cell_type": "code",
   "execution_count": null,
   "id": "43b2521c-345d-4842-b31a-809465c0b798",
   "metadata": {},
   "outputs": [],
   "source": [
    "max_it = 500\n",
    "plot_error(errors[:max_it])"
   ]
  },
  {
   "cell_type": "code",
   "execution_count": null,
   "id": "26b52a42-f74b-4aee-8b3a-36f1dc6290f8",
   "metadata": {},
   "outputs": [],
   "source": [
    "eigen_min = {}\n",
    "condition = {}\n",
    "for it in range(0, max_it, 1):\n",
    "    H = linop.Hessian(traj_a[it], traj_t[it], y)\n",
    "    condition[it] = npl.cond(H)\n",
    "    eigen_min[it] = np.min(npl.eigvals(H))"
   ]
  },
  {
   "cell_type": "code",
   "execution_count": null,
   "id": "a181d560-e988-434b-b46b-75da4ae88712",
   "metadata": {},
   "outputs": [],
   "source": [
    "plot_eigenvalue(eigen_min, condition)"
   ]
  },
  {
   "cell_type": "markdown",
   "id": "2122ef64-49c7-415f-8f9e-c67bb342ec7f",
   "metadata": {
    "tags": []
   },
   "source": [
    "# Eigen values with $ x = a_1 \\delta_{t_{1}} + a_2 \\delta_{t_{2}} $"
   ]
  },
  {
   "cell_type": "code",
   "execution_count": null,
   "id": "32b76c6b-5a14-46da-ba47-087ab7dc5262",
   "metadata": {},
   "outputs": [],
   "source": [
    "k, d = 2, 2\n",
    "m = k * 40\n",
    "a0 = np.array([1])\n",
    "t0 = np.array([[0] * d])\n",
    "\n",
    "a = np.ones(k) / k\n",
    "t = unit_circle_points(k, dist=.2)\n",
    "\n",
    "linop = FourierTransform(m=m, d=d, lamb=.2)\n",
    "y = linop.Ax(a0, t0)"
   ]
  },
  {
   "cell_type": "code",
   "execution_count": null,
   "id": "7dd12c97-1220-431a-90b4-dfefbe606258",
   "metadata": {},
   "outputs": [],
   "source": [
    "a_est, t_est, traj_a, traj_t, errors = gradient_descent(y, linop, a, t, project=False, clip=False,\n",
    "                                                        tau={'min': -10, 'max': 10}, nit=10_000)"
   ]
  },
  {
   "cell_type": "code",
   "execution_count": null,
   "id": "378df456-badb-42ae-8ae7-35420f94ff41",
   "metadata": {},
   "outputs": [],
   "source": [
    "plot_traj(t0, t, traj_t, lim=True)"
   ]
  },
  {
   "cell_type": "code",
   "execution_count": null,
   "id": "fb2e1a82-c265-4194-ab98-450bf069b60f",
   "metadata": {},
   "outputs": [],
   "source": [
    "eigen_min = {}\n",
    "condition = {}\n",
    "for it in range(0, 10001, 20):\n",
    "    H = linop.Hessian(traj_a[it], traj_t[it], y)\n",
    "    condition[it] = npl.cond(H)\n",
    "    eigen_min[it] = -np.min(npl.eigvals(H))"
   ]
  },
  {
   "cell_type": "code",
   "execution_count": null,
   "id": "2e84618e-3363-4d6e-b998-67f36047834d",
   "metadata": {},
   "outputs": [],
   "source": [
    "plot_eigenvalue_log(eigen_min, condition)"
   ]
  },
  {
   "cell_type": "markdown",
   "id": "81e8bf21-5e7b-45f1-ab2c-c072ab1c84a3",
   "metadata": {
    "tags": []
   },
   "source": [
    "## Eigen values with $ x = \\sum_{i = 1}^{5} a_i \\delta_{t_{i}} $"
   ]
  },
  {
   "cell_type": "code",
   "execution_count": null,
   "id": "602c31d3-bf7a-4e99-8f4d-c064ff9f76ac",
   "metadata": {},
   "outputs": [],
   "source": [
    "k, d = 5, 2\n",
    "m = k * 40\n",
    "a0 = np.array([1])\n",
    "t0 = np.array([[0] * d])\n",
    "\n",
    "a = np.ones(k) / k\n",
    "t = unit_circle_points(k, dist=.2)\n",
    "\n",
    "linop = FourierTransform(m=m, d=d, lamb=.2)\n",
    "y = linop.Ax(a0, t0)"
   ]
  },
  {
   "cell_type": "code",
   "execution_count": null,
   "id": "9a6dd316-e5b0-40c4-98a0-ff6e89efdae2",
   "metadata": {},
   "outputs": [],
   "source": [
    "a_est, t_est, traj_a, traj_t, errors = gradient_descent(y, linop, a, t, project=False, clip=False,\n",
    "                                                        tau={'min': -10, 'max': 10}, nit=10_000)"
   ]
  },
  {
   "cell_type": "code",
   "execution_count": null,
   "id": "abc62972-0ef4-47e4-8b24-7d17a8673fcf",
   "metadata": {},
   "outputs": [],
   "source": [
    "plot_traj(t0, t, traj_t, lim=True)"
   ]
  },
  {
   "cell_type": "code",
   "execution_count": null,
   "id": "c9576473-d463-4553-9882-d9f5ecef57a9",
   "metadata": {},
   "outputs": [],
   "source": [
    "plot_error(errors)"
   ]
  },
  {
   "cell_type": "code",
   "execution_count": null,
   "id": "82646d59-b4e8-4c02-bf86-3e76a0e2efd0",
   "metadata": {},
   "outputs": [],
   "source": [
    "eigen_min = {}\n",
    "condition = {}\n",
    "for it in range(0, 10001, 20):\n",
    "    H = linop.Hessian(traj_a[it], traj_t[it], y)\n",
    "    condition[it] = npl.cond(H)\n",
    "    eigen_min[it] = -np.min(npl.eigvals(H))"
   ]
  },
  {
   "cell_type": "code",
   "execution_count": null,
   "id": "58f06112-9baf-4a6b-b0cb-158e60571bd9",
   "metadata": {},
   "outputs": [],
   "source": [
    "plot_eigenvalue_log(eigen_min, condition)"
   ]
  },
  {
   "cell_type": "markdown",
   "id": "6b519eb7-2694-4ae3-8775-2fd52f1818eb",
   "metadata": {
    "tags": []
   },
   "source": [
    "# Eigen values with $ x = \\sum_{i = 1}^{5} a_i \\delta_{t_{i}} $"
   ]
  },
  {
   "cell_type": "code",
   "execution_count": null,
   "id": "fed14a90-c46c-4a0e-885f-c81c9139b322",
   "metadata": {},
   "outputs": [],
   "source": [
    "k, d = 5, 2\n",
    "m = k * 40\n",
    "a0 = np.array([1])\n",
    "t0 = np.array([[0] * d])\n",
    "\n",
    "a = np.ones(k) / k\n",
    "t = unit_circle_points(k, dist=1e-5)\n",
    "\n",
    "linop = FourierTransform(m=m, d=d, lamb=.2)\n",
    "y = linop.Ax(a0, t0)"
   ]
  },
  {
   "cell_type": "code",
   "execution_count": null,
   "id": "86d4311d-99e0-4a82-a4c1-f025795be2ff",
   "metadata": {
    "scrolled": true,
    "tags": []
   },
   "outputs": [],
   "source": [
    "a_est, t_est, traj_a, traj_t, errors = gradient_descent(y, linop, a, t, project=False, clip=False,\n",
    "                                                        tau={'min': -15, 'max': 15}, nit=1000)"
   ]
  },
  {
   "cell_type": "code",
   "execution_count": null,
   "id": "e319be62-e0b4-445c-afb9-da79f8b94ac8",
   "metadata": {},
   "outputs": [],
   "source": [
    "def formatter(value):\n",
    "    if value == 0:\n",
    "        return 0\n",
    "    elif value > 0:\n",
    "        return f\"{str(value)[-1]}.e-6\"\n",
    "    else:\n",
    "        return f\"-{str(value)[-1]}.e-6\"\n",
    "\n",
    "def plot_traj(t0, t_init, traj_t, lim=None, save=None, opts_spe={}):\n",
    "    size = 300\n",
    "    xticks = [(5e-6, '5.e-6'), (0, 0), (-5e-6, '-5.e-6')]\n",
    "    yticks = [(6e-6, '6.e-6'), (2e-6, '2.e-6'), (0, 0), (-2e-6, '-2.e-6'), (-6e-6, '-6.e-6')]\n",
    "\n",
    "    for idx in range(traj_t.shape[1]):\n",
    "        curve_traj = hv.Curve(traj_t[:, idx, :], label='Trajectory').opts(linestyle='-', marker='o', alpha=.3, ms=size // 25, \n",
    "                                                                          xticks=xticks, yticks=yticks)\n",
    "        point_init = hv.Points(t_init, label='Initialization').opts(color='r', marker='P', s=size)\n",
    "        if idx == 0:\n",
    "            layout = (curve_traj * point_init)\n",
    "        else:\n",
    "            layout = layout * (curve_traj * point_init)\n",
    "\n",
    "    layout = layout * hv.Points(t0, label='Ground truth').opts(color='g', marker='X', s=size)\n",
    "\n",
    "    opts = {'show_legend': True, 'fig_size': 200, 'fontscale': 2, 'yformatter': formatter}\n",
    "    for k, v in opts_spe.items():\n",
    "        opts[k] = v\n",
    "    \n",
    "\n",
    "    if lim is None:\n",
    "        opts['padding'] = 0.1\n",
    "    else:\n",
    "        opts['xlim'] = (-0.25, 0.25)\n",
    "        opts['ylim'] = (-0.25, 0.25)\n",
    "\n",
    "    output = layout.opts(**opts)\n",
    "    if save:\n",
    "        save_plot(output, save)\n",
    "\n",
    "    hv.output(output)"
   ]
  },
  {
   "cell_type": "code",
   "execution_count": null,
   "id": "68712b6b-bb55-4761-b6eb-b86141008f85",
   "metadata": {},
   "outputs": [],
   "source": [
    "traj_t.shape"
   ]
  },
  {
   "cell_type": "code",
   "execution_count": null,
   "id": "76586cf2-b857-4ffb-9a5b-d6b11c996ec2",
   "metadata": {},
   "outputs": [],
   "source": [
    "plot_traj(t0, traj_t[2, :, :], traj_t[2:, :, :], lim=None, opts_spe=dict(legend_position='top_left'))"
   ]
  },
  {
   "cell_type": "code",
   "execution_count": null,
   "id": "c68430a4-b21e-44ea-b48d-94057943424e",
   "metadata": {},
   "outputs": [],
   "source": [
    "plot_error(errors[2:])"
   ]
  },
  {
   "cell_type": "code",
   "execution_count": null,
   "id": "a30dcbb7-5c39-45c2-9c3b-0eb941618e6b",
   "metadata": {},
   "outputs": [],
   "source": [
    "eigen_min = {}\n",
    "condition = {}\n",
    "for it in range(0, 1000, 1):\n",
    "    H = linop.Hessian(traj_a[it], traj_t[it], y)\n",
    "    condition[it] = npl.cond(H)\n",
    "    eigen_min[it] = abs(np.min(np.real(npl.eigvalsh(H))))"
   ]
  },
  {
   "cell_type": "code",
   "execution_count": null,
   "id": "d3b030aa-ad1b-452f-8bbd-2020d6b83926",
   "metadata": {},
   "outputs": [],
   "source": [
    "plot_eigenvalue_log(eigen_min, condition)"
   ]
  },
  {
   "cell_type": "code",
   "execution_count": null,
   "id": "856109dd-cc5c-4bb7-8030-066926a92e4a",
   "metadata": {},
   "outputs": [],
   "source": []
  }
 ],
 "metadata": {
  "kernelspec": {
   "display_name": "Python 3 (ipykernel)",
   "language": "python",
   "name": "python3"
  },
  "language_info": {
   "codemirror_mode": {
    "name": "ipython",
    "version": 3
   },
   "file_extension": ".py",
   "mimetype": "text/x-python",
   "name": "python",
   "nbconvert_exporter": "python",
   "pygments_lexer": "ipython3",
   "version": "3.10.12"
  }
 },
 "nbformat": 4,
 "nbformat_minor": 5
}
